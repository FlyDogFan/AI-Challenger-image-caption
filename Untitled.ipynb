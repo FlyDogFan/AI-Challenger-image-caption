{
 "cells": [
  {
   "cell_type": "code",
   "execution_count": 1,
   "metadata": {
    "collapsed": true
   },
   "outputs": [],
   "source": [
    "from data_utils import Vocabulary\n",
    "from torch.utils import data\n"
   ]
  },
  {
   "cell_type": "code",
   "execution_count": 2,
   "metadata": {
    "collapsed": false
   },
   "outputs": [],
   "source": [
    "vocab_dict = Vocabulary('./word2idx.pickle', './idx2word.pickle')"
   ]
  },
  {
   "cell_type": "code",
   "execution_count": 5,
   "metadata": {
    "collapsed": true
   },
   "outputs": [],
   "source": [
    "import json"
   ]
  },
  {
   "cell_type": "code",
   "execution_count": 6,
   "metadata": {
    "collapsed": true
   },
   "outputs": [],
   "source": [
    "with open('./data/ai_challenger_caption_train_20170902/caption_train_annotations_20170902.json') as f:\n",
    "    a = json.load(f)"
   ]
  },
  {
   "cell_type": "code",
   "execution_count": 22,
   "metadata": {
    "collapsed": false
   },
   "outputs": [
    {
     "data": {
      "text/plain": [
       "'8f00f3d0f1008e085ab660e70dffced16a8259f6.jpg'"
      ]
     },
     "execution_count": 22,
     "metadata": {},
     "output_type": "execute_result"
    }
   ],
   "source": [
    "a[0]['image_id']"
   ]
  },
  {
   "cell_type": "code",
   "execution_count": 35,
   "metadata": {
    "collapsed": true
   },
   "outputs": [],
   "source": [
    "from PIL import Image\n",
    "import numpy as np"
   ]
  },
  {
   "cell_type": "code",
   "execution_count": 39,
   "metadata": {
    "collapsed": true
   },
   "outputs": [],
   "source": [
    "from torchvision import transforms"
   ]
  },
  {
   "cell_type": "code",
   "execution_count": 43,
   "metadata": {
    "collapsed": false
   },
   "outputs": [
    {
     "data": {
      "text/plain": [
       "['两个衣着休闲的人在平整的道路上交谈',\n",
       " '一个穿着红色上衣的男人和一个穿着灰色裤子的男人站在室外的道路上交谈',\n",
       " '室外的公园里有两个穿着长裤的男人在交流',\n",
       " '街道上有一个穿着深色外套的男人和一个穿着红色外套的男人在交谈',\n",
       " '道路上有一个身穿红色上衣的男人在和一个抬着左手的人讲话']"
      ]
     },
     "execution_count": 43,
     "metadata": {},
     "output_type": "execute_result"
    }
   ],
   "source": [
    "a[0]['caption']"
   ]
  },
  {
   "cell_type": "code",
   "execution_count": 23,
   "metadata": {
    "collapsed": true
   },
   "outputs": [],
   "source": [
    "import os"
   ]
  },
  {
   "cell_type": "code",
   "execution_count": null,
   "metadata": {
    "collapsed": true
   },
   "outputs": [],
   "source": [
    "import os\n",
    "from PIL import Image\n",
    "\n",
    "PAD = 0\n",
    "UNK = 1\n",
    "BOS = 2\n",
    "EOS = 3\n",
    "\n",
    "PAD_WORD = \"<blank>\"\n",
    "UNK_WORD = \"<unkown>\"\n",
    "BOS_WORD = \"<s>\"\n",
    "EOS_WORD = \"</s>\"\n",
    "\n",
    "class MyDataset(data.Dataset):\n",
    "    \n",
    "    def __init__(self, vocab_dict, img_path, json_path, transform):\n",
    "        self.vocab_dict = vocab_dict\n",
    "        with open(json_path, 'r') as f:\n",
    "            self.caption = json.load(f)\n",
    "        \n",
    "        self.img_path = img_path\n",
    "        self.transform = transform\n",
    "        \n",
    "    def __getitem__(self, index):\n",
    "        img_path = os.path.join(self.img_path, self.caption[index]['image_id'])\n",
    "        img = Image.open(img_path)\n",
    "        img = self.transform(img)\n",
    "        \n",
    "        cap = self.caption[index]['caption']\n",
    "        for \n",
    "        \n",
    "    def __len__(self):\n",
    "        return len(self.caption)"
   ]
  },
  {
   "cell_type": "code",
   "execution_count": null,
   "metadata": {
    "collapsed": true
   },
   "outputs": [],
   "source": []
  }
 ],
 "metadata": {
  "anaconda-cloud": {},
  "kernelspec": {
   "display_name": "Python [conda env:mx]",
   "language": "python",
   "name": "conda-env-mx-py"
  },
  "language_info": {
   "codemirror_mode": {
    "name": "ipython",
    "version": 3
   },
   "file_extension": ".py",
   "mimetype": "text/x-python",
   "name": "python",
   "nbconvert_exporter": "python",
   "pygments_lexer": "ipython3",
   "version": "3.6.1"
  }
 },
 "nbformat": 4,
 "nbformat_minor": 1
}
